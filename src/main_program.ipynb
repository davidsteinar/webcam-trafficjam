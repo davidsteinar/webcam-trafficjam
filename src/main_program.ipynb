{
 "cells": [
  {
   "cell_type": "code",
   "execution_count": 1,
   "metadata": {
    "scrolled": false
   },
   "outputs": [
    {
     "name": "stderr",
     "output_type": "stream",
     "text": [
      "/home/hudz0r/miniconda3/envs/tensorflow/lib/python3.6/importlib/_bootstrap.py:219: RuntimeWarning: compiletime version 3.5 of module 'tensorflow.python.framework.fast_tensor_util' does not match runtime version 3.6\n",
      "  return f(*args, **kwds)\n"
     ]
    }
   ],
   "source": [
    "import tensorflow as tf\n",
    "import pprint\n",
    "import pycurl\n",
    "from io import BytesIO\n",
    "import json\n",
    "import time\n",
    "import matplotlib.pyplot as plt\n",
    "import numpy as np"
   ]
  },
  {
   "cell_type": "markdown",
   "metadata": {},
   "source": [
    "### Load model from file"
   ]
  },
  {
   "cell_type": "code",
   "execution_count": 2,
   "metadata": {},
   "outputs": [
    {
     "name": "stdout",
     "output_type": "stream",
     "text": [
      "INFO:tensorflow:Restoring parameters from models/my_tf_model\n",
      "20\n"
     ]
    }
   ],
   "source": [
    "sess = tf.Session()\n",
    "# we want the variable values from from my_tf_model (not working right now)\n",
    "saver = tf.train.import_meta_graph('models/my_tf_model.meta')\n",
    "saver.restore(sess, tf.train.latest_checkpoint('models'))\n",
    "\n",
    "graph = tf.get_default_graph()\n",
    "\n",
    "# init variables from trained model\n",
    "\n",
    "print(len(graph.get_collection('trainable_variables')))\n",
    "\n",
    "W_conv1 = graph.get_collection('trainable_variables')[10]\n",
    "b_conv1 = graph.get_collection('trainable_variables')[11]\n",
    "W_conv2 = graph.get_collection('trainable_variables')[12]\n",
    "b_conv2 = graph.get_collection('trainable_variables')[13]\n",
    "W_conv3 = graph.get_collection('trainable_variables')[14]\n",
    "b_conv3 = graph.get_collection('trainable_variables')[15]\n",
    "W_dense1 = graph.get_collection('trainable_variables')[16]\n",
    "b_dense1 = graph.get_collection('trainable_variables')[17]\n",
    "W_out = graph.get_collection('trainable_variables')[18]\n",
    "b_out = graph.get_collection('trainable_variables')[19]\n",
    "\n",
    "# build graph\n",
    "\n",
    "X = tf.placeholder(tf.float32, [1,112, 200, 3])\n",
    "\n",
    "pkeep = tf.placeholder(tf.float32)\n",
    "\n",
    "def build_conv_net(X_in, keep_prob, dropout=0.1610, kernel_size=3, filters=32, hiddenunits=500):\n",
    "        \n",
    "    \n",
    "    conv1 = tf.nn.relu(tf.nn.conv2d(X_in, W_conv1, strides=[1,1,1,1], padding=\"VALID\") + b_conv1)\n",
    "     \n",
    "    maxpool1 = tf.layers.max_pooling2d(inputs=conv1,\n",
    "                                       pool_size=2,\n",
    "                                       strides=2)\n",
    "            \n",
    "    conv2 = tf.nn.relu(tf.nn.conv2d(maxpool1, W_conv2, strides=[1,1,1,1], padding=\"VALID\") + b_conv2)\n",
    "        \n",
    "    maxpool2 = tf.layers.max_pooling2d(inputs=conv2,\n",
    "                                       pool_size=2,\n",
    "                                       strides=2)\n",
    "        \n",
    "    conv3 = tf.nn.relu(tf.nn.conv2d(maxpool2, W_conv3, strides=[1,1,1,1], padding=\"VALID\") + b_conv3)\n",
    "        \n",
    "    maxpool3 = tf.layers.max_pooling2d(inputs=conv3,\n",
    "                                       pool_size=2,\n",
    "                                       strides=2)\n",
    "                \n",
    "    flat = tf.contrib.layers.flatten(inputs=maxpool3)\n",
    "                \n",
    "    dropout1 = tf.nn.dropout(flat, pkeep)\n",
    "        \n",
    "    dense1 = tf.nn.relu(tf.matmul(dropout1, W_dense1) + b_dense1)\n",
    "        \n",
    "    dropout2 = tf.nn.dropout(dense1, pkeep)\n",
    "        \n",
    "    out = tf.nn.relu(tf.matmul(dropout2, W_out) + b_out)\n",
    "    \n",
    "    return out\n"
   ]
  },
  {
   "cell_type": "markdown",
   "metadata": {},
   "source": [
    "### Graph info"
   ]
  },
  {
   "cell_type": "code",
   "execution_count": 3,
   "metadata": {},
   "outputs": [
    {
     "name": "stdout",
     "output_type": "stream",
     "text": [
      "['queue_runners', 'summaries', 'trainable_variables', 'train_op', 'variables']\n",
      "<tf.Variable 'dense_1/kernel:0' shape=(500, 1) dtype=float32_ref>\n"
     ]
    }
   ],
   "source": [
    "print(graph.get_all_collection_keys())\n",
    "print(graph.get_collection('trainable_variables')[8])"
   ]
  },
  {
   "cell_type": "markdown",
   "metadata": {},
   "source": [
    "### Functions"
   ]
  },
  {
   "cell_type": "code",
   "execution_count": 4,
   "metadata": {},
   "outputs": [],
   "source": [
    "# returns image from webcam with id\n",
    "def get_img(webcam_id):\n",
    "    image = plt.imread(\"data/test_image.jpg\")\n",
    "    image = np.expand_dims(image, axis=0)\n",
    "    return image"
   ]
  },
  {
   "cell_type": "markdown",
   "metadata": {},
   "source": [
    "### Main program"
   ]
  },
  {
   "cell_type": "code",
   "execution_count": null,
   "metadata": {},
   "outputs": [
    {
     "name": "stdout",
     "output_type": "stream",
     "text": [
      "<class 'numpy.ndarray'>\n",
      "Webcam 33 has [ 42.25443649] number of cars\n"
     ]
    }
   ],
   "source": [
    "webcam_id_list = [33] #dummy values\n",
    "sleep_time = 60 #check every minute\n",
    "net = build_conv_net(X, pkeep)\n",
    "while(1):\n",
    "    for w in webcam_id_list:\n",
    "        i = get_img(w)\n",
    "        \n",
    "        count = sess.run(net, feed_dict={X:i, pkeep:1.0})\n",
    "        print(type(count))\n",
    "        print(\"Webcam \" + str(w) + \" has \" + str(count[0].flatten()) + \" number of cars\")\n",
    "    time.sleep(sleep_time)"
   ]
  },
  {
   "cell_type": "code",
   "execution_count": null,
   "metadata": {},
   "outputs": [],
   "source": []
  },
  {
   "cell_type": "code",
   "execution_count": null,
   "metadata": {},
   "outputs": [],
   "source": []
  }
 ],
 "metadata": {
  "kernelspec": {
   "display_name": "Python 3",
   "language": "python",
   "name": "python3"
  },
  "language_info": {
   "codemirror_mode": {
    "name": "ipython",
    "version": 3
   },
   "file_extension": ".py",
   "mimetype": "text/x-python",
   "name": "python",
   "nbconvert_exporter": "python",
   "pygments_lexer": "ipython3",
   "version": "3.6.4"
  }
 },
 "nbformat": 4,
 "nbformat_minor": 2
}
