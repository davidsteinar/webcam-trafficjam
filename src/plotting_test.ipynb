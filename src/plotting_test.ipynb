{
 "cells": [
  {
   "cell_type": "code",
   "execution_count": 23,
   "metadata": {},
   "outputs": [],
   "source": [
    "from __future__ import print_function\n",
    "import tensorflow as tf\n",
    "import os\n",
    "\n",
    "# Dataset Parameters - CHANGE HERE\n",
    "DATASET_PATH = '../data/TRANCOS_v3/'\n",
    "\n",
    "# Image Parameters\n",
    "N_CLASSES = 1\n",
    "IMG_HEIGHT = 112\n",
    "IMG_WIDTH = 200\n",
    "CHANNELS = 3\n",
    "\n",
    "\n",
    "# Reading the dataset\n",
    "def read_images(dataset_path, batch_size, mode):\n",
    "    imagepaths, labels = [], []\n",
    "        # Read dataset file\n",
    "    if mode == 'train':\n",
    "        dataset_path_mod = dataset_path + 'image_sets/training.txt'\n",
    "    elif mode == 'validation':\n",
    "        dataset_path_mod = dataset_path + 'image_sets/validation.txt'\n",
    "    elif mode == 'test':\n",
    "        dataset_path_mod = dataset_path + 'image_sets/test.txt'\n",
    "        \n",
    "    with open(dataset_path_mod, 'r') as f:\n",
    "        data = f.read().splitlines()\n",
    "        \n",
    "    for d in data:\n",
    "        imagepaths.append(dataset_path+'images/'+d)\n",
    "        \n",
    "        label = (dataset_path+'images/'+d).replace('.jpg','.txt')\n",
    "        with open(label, 'r', encoding='utf-8') as f:\n",
    "            for i, l in enumerate(f):\n",
    "                pass\n",
    "            \n",
    "        labels.append(i+1)\n",
    "\n",
    "    # Convert to Tensor\n",
    "    imagepaths = tf.convert_to_tensor(imagepaths, dtype=tf.string)\n",
    "    labels = tf.convert_to_tensor(labels, dtype=tf.float32)\n",
    "    # Build a TF Queue, shuffle data\n",
    "    image, label = tf.train.slice_input_producer([imagepaths, labels],\n",
    "                                                 shuffle=True)\n",
    "\n",
    "    # Read images from disk\n",
    "    image = tf.read_file(image)\n",
    "    image = tf.image.decode_jpeg(image, channels=CHANNELS)\n",
    "    # Resize images to a common size\n",
    "    image = tf.image.resize_images(image, [IMG_HEIGHT, IMG_WIDTH])\n",
    "\n",
    "    # Normalize\n",
    "    #image = image * 1.0/127.5 - 1.0 ################################################################### sketchy\n",
    "    image = tf.image.per_image_standardization(image)\n",
    "    # Create batches\n",
    "    X, Y = tf.train.batch([image, label], batch_size=batch_size,\n",
    "                          capacity=batch_size * 8)#,\n",
    "                          #num_threads=4) ############################################################# num threads?\n",
    "\n",
    "    return X, Y\n",
    "\n",
    "# Parameters\n",
    "learning_rate = 0.001\n",
    "num_steps = 1\n",
    "batch_size = 10\n",
    "display_step = 100\n",
    "dropout = 0.75\n",
    "\n",
    "# Build the data input\n",
    "X_train_batch, Y_train_batch = read_images(DATASET_PATH, batch_size, mode='train')\n",
    "X_test_batch, Y_test_batch   = read_images(DATASET_PATH, batch_size, mode='test')\n",
    "X_val_batch, Y_val_batch     = read_images(DATASET_PATH, batch_size, mode='validation')\n",
    "\n",
    "# Create model\n",
    "def conv_net(x, reuse=False):\n",
    "    # Define a scope for reusing the variables\n",
    "\n",
    "    conv1    = tf.layers.conv2d(inputs=x, \n",
    "                                filters=32, \n",
    "                                kernel_size=5,\n",
    "                                activation=tf.nn.relu)\n",
    "\n",
    "    maxpool1 = tf.layers.max_pooling2d(inputs=conv1, \n",
    "                                       pool_size=2,\n",
    "                                       strides=2)\n",
    "\n",
    "    conv2    = tf.layers.conv2d(inputs=maxpool1, \n",
    "                                filters=32, \n",
    "                                kernel_size=5,\n",
    "                                activation=tf.nn.relu)\n",
    "\n",
    "    maxpool2 = tf.layers.max_pooling2d(inputs=conv2, \n",
    "                                       pool_size=2,\n",
    "                                       strides=2)\n",
    "\n",
    "    conv3    = tf.layers.conv2d(inputs=maxpool2, \n",
    "                                filters=32, \n",
    "                                kernel_size=3,\n",
    "                                activation=tf.nn.relu)\n",
    "\n",
    "    maxpool3 = tf.layers.max_pooling2d(inputs=conv2, \n",
    "                                       pool_size=2,\n",
    "                                       strides=2)\n",
    "\n",
    "    flat     = tf.contrib.layers.flatten(inputs=maxpool3)\n",
    "\n",
    "    dropout1 = tf.layers.dropout(inputs=flat, \n",
    "                                 rate=dropout, \n",
    "                                 training=True)\n",
    "\n",
    "    fullyconnected1   = tf.layers.dense(inputs=dropout1, \n",
    "                               units=500, \n",
    "                               activation=tf.nn.relu)\n",
    "\n",
    "    dropout2 = tf.layers.dropout(inputs=fullyconnected1, \n",
    "                                 rate=dropout, \n",
    "                                 training=True)\n",
    "    out = tf.layers.dense(dropout2, \n",
    "                          units=1)\n",
    "\n",
    "    #hidden = tf.layers.dense(inputs=x,\n",
    "    #                         units=100,\n",
    "    #                         activation=tf.nn.relu)\n",
    "    #out = tf.layers.dense(hidden, 1)\n",
    "\n",
    "    return out\n",
    "\n",
    "\n",
    "\n",
    "# Because Dropout have different behavior at training and prediction time, we\n",
    "# need to create 2 distinct computation graphs that share the same weights.\n",
    "\n",
    "# Create a graph for training\n",
    "logits_train = conv_net(X_train_batch)\n",
    "# Create another graph for testing that reuse the same weights\n",
    "#logits_test = conv_net(X)\n",
    "\n",
    "# Define loss and optimizer (with train logits, for dropout to take effect)\n",
    "loss_op   = tf.reduce_mean(tf.square(tf.subtract(Y_train_batch, logits_train)))\n",
    "optimizer = tf.train.AdamOptimizer(learning_rate=learning_rate)\n",
    "train_op  = optimizer.minimize(loss_op)\n",
    "\n",
    "# Evaluate model (with test logits, for dropout to be disabled)\n",
    "#test_loss = tf.reduce_mean(tf.square(tf.subtract(Y, logits_test)))\n",
    "# Initialize the variables (i.e. assign their default value)\n",
    "init = tf.global_variables_initializer()\n",
    "\n",
    "# Saver object\n",
    "saver = tf.train.Saver()"
   ]
  },
  {
   "cell_type": "code",
   "execution_count": 24,
   "metadata": {},
   "outputs": [],
   "source": [
    "with tf.Session() as sess:\n",
    "  \n",
    "    # initialize the variables\n",
    "    sess.run(tf.global_variables_initializer())\n",
    "\n",
    "    # initialize the queue threads to start to shovel data\n",
    "    coord = tf.train.Coordinator()\n",
    "    threads = tf.train.start_queue_runners(coord=coord)\n",
    "\n",
    "    for i in range(10):\n",
    "        #print(sess.run(X_train_batch))\n",
    "        xinput = sess.run(X_train_batch)\n",
    "        yinput  = sess.run(Y_train_batch)\n",
    "        \n",
    "    coord.request_stop()\n",
    "    coord.join(threads)"
   ]
  },
  {
   "cell_type": "code",
   "execution_count": 25,
   "metadata": {},
   "outputs": [
    {
     "data": {
      "text/plain": [
       "(10, 112, 200, 3)"
      ]
     },
     "execution_count": 25,
     "metadata": {},
     "output_type": "execute_result"
    }
   ],
   "source": [
    "xinput.shape"
   ]
  },
  {
   "cell_type": "code",
   "execution_count": 57,
   "metadata": {},
   "outputs": [],
   "source": [
    "from PIL import Image\n",
    "import numpy as np\n",
    "index = 1"
   ]
  },
  {
   "cell_type": "code",
   "execution_count": 58,
   "metadata": {},
   "outputs": [
    {
     "data": {
      "image/png": "[encoded data removed]",
      "text/plain": [
       "<PIL.Image.Image image mode=RGB size=200x112 at 0x7A96899BC0F0>"
      ]
     },
     "execution_count": 58,
     "metadata": {},
     "output_type": "execute_result"
    }
   ],
   "source": [
    "Image.fromarray(np.uint8(xinput[index,:,:,:]), 'RGB')"
   ]
  },
  {
   "cell_type": "code",
   "execution_count": 59,
   "metadata": {},
   "outputs": [
    {
     "data": {
      "text/plain": [
       "14.0"
      ]
     },
     "execution_count": 59,
     "metadata": {},
     "output_type": "execute_result"
    }
   ],
   "source": [
    "yinput[index]"
   ]
  }
 ],
 "metadata": {
  "kernelspec": {
   "display_name": "Python 3",
   "language": "python",
   "name": "python3"
  },
  "language_info": {
   "codemirror_mode": {
    "name": "ipython",
    "version": 3
   },
   "file_extension": ".py",
   "mimetype": "text/x-python",
   "name": "python",
   "nbconvert_exporter": "python",
   "pygments_lexer": "ipython3",
   "version": "3.6.3"
  }
 },
 "nbformat": 4,
 "nbformat_minor": 2
}
